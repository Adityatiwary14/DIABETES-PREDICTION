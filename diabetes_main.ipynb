{
 "cells": [
  {
   "cell_type": "code",
   "execution_count": 2,
   "metadata": {},
   "outputs": [],
   "source": [
    "import numpy as np\n",
    "import pandas as pd\n",
    "from sklearn.preprocessing import StandardScaler\n",
    "from sklearn.model_selection import train_test_split\n",
    "from sklearn import svm\n",
    "from sklearn.metrics import accuracy_score"
   ]
  },
  {
   "cell_type": "code",
   "execution_count": 4,
   "metadata": {},
   "outputs": [],
   "source": [
    "diabetes_dataset = pd.read_csv(r\"C:\\Users\\Administrator\\Desktop\\Diabetes Prediction\\diabetes_data.csv\")"
   ]
  },
  {
   "cell_type": "code",
   "execution_count": 5,
   "metadata": {},
   "outputs": [
    {
     "name": "stdout",
     "output_type": "stream",
     "text": [
      "[[-1.60723742  1.09004602 -1.05279808 ... -0.58155367 -0.25747348\n",
      "   0.88020109]\n",
      " [ 1.19768093  1.09004602  0.94984976 ... -0.58155367  3.88389516\n",
      "   0.88020109]\n",
      " [ 1.54829572  1.09004602 -1.05279808 ... -0.58155367 -0.25747348\n",
      "  -1.13610402]\n",
      " ...\n",
      " [ 1.54829572 -0.91739246  0.94984976 ...  1.71953175 -0.25747348\n",
      "   0.88020109]\n",
      " [ 0.84706614 -0.91739246  0.94984976 ...  1.71953175 -0.25747348\n",
      "   0.88020109]\n",
      " [ 0.14583655 -0.91739246  0.94984976 ... -0.58155367 -0.25747348\n",
      "   0.88020109]]\n",
      "0        0.0\n",
      "1        0.0\n",
      "2        0.0\n",
      "3        0.0\n",
      "4        0.0\n",
      "        ... \n",
      "70687    1.0\n",
      "70688    1.0\n",
      "70689    1.0\n",
      "70690    1.0\n",
      "70691    1.0\n",
      "Name: Diabetes, Length: 70692, dtype: float64\n"
     ]
    }
   ],
   "source": [
    "X = diabetes_dataset.drop(columns = 'Diabetes', axis=1)\n",
    "Y = diabetes_dataset['Diabetes']\n",
    "scaler = StandardScaler()\n",
    "scaler.fit(X)\n",
    "standardized_data = scaler.transform(X)\n",
    "# print(standardized_data)\n",
    "\n",
    "X = standardized_data\n",
    "Y = diabetes_dataset['Diabetes']\n",
    "\n",
    "print(X)\n",
    "print(Y)"
   ]
  },
  {
   "cell_type": "code",
   "execution_count": 6,
   "metadata": {},
   "outputs": [
    {
     "name": "stdout",
     "output_type": "stream",
     "text": [
      "(70692, 17) (56553, 17) (14139, 17)\n"
     ]
    }
   ],
   "source": [
    "X_train, X_test, Y_train, Y_test = train_test_split(X,Y, test_size = 0.2, stratify=Y, random_state=2)\n",
    "\n",
    "print(X.shape, X_train.shape, X_test.shape)"
   ]
  },
  {
   "cell_type": "code",
   "execution_count": 7,
   "metadata": {},
   "outputs": [
    {
     "name": "stdout",
     "output_type": "stream",
     "text": [
      "Accuracy score of the training data :  0.7586688593001255\n"
     ]
    }
   ],
   "source": [
    "#training the model\n",
    "classifier = svm.SVC(kernel='rbf')\n",
    "\n",
    "#training the support vector Machine Classifier\n",
    "classifier.fit(X_train, Y_train)\n",
    "\n",
    "#model evaluation\n",
    "# accuracy score on the training data\n",
    "X_train_prediction = classifier.predict(X_train)\n",
    "training_data_accuracy = accuracy_score(X_train_prediction, Y_train)\n",
    "\n",
    "print('Accuracy score of the training data : ', training_data_accuracy)"
   ]
  },
  {
   "cell_type": "code",
   "execution_count": 9,
   "metadata": {},
   "outputs": [
    {
     "name": "stdout",
     "output_type": "stream",
     "text": [
      "[[0. 0. 0. 0. 0. 0. 0. 0. 0. 0. 0. 0. 0. 0. 0. 0. 0.]]\n"
     ]
    }
   ],
   "source": [
    "input_data = (4,1,0,1,26,0,0,1,0,1,0,3,5,30,0,0,1)\n",
    "\n",
    "# changing the input_data to numpy array\n",
    "input_data_as_numpy_array = np.asarray(input_data)\n",
    "\n",
    "# reshape the array as we are predicting for one instance\n",
    "input_data_reshaped = input_data_as_numpy_array.reshape(1,-1)\n",
    "\n",
    "# standardize the input data\n",
    "scaler = StandardScaler()\n",
    "scaler.fit(input_data_reshaped)\n",
    "\n",
    "# Standardize the input_data\n",
    "std_data = scaler.transform(input_data_reshaped)\n",
    "print(std_data)"
   ]
  },
  {
   "cell_type": "code",
   "execution_count": 11,
   "metadata": {},
   "outputs": [
    {
     "name": "stdout",
     "output_type": "stream",
     "text": [
      "[1.]\n"
     ]
    }
   ],
   "source": [
    "prediction = classifier.predict(std_data)\n",
    "print(prediction)"
   ]
  },
  {
   "cell_type": "code",
   "execution_count": 12,
   "metadata": {},
   "outputs": [
    {
     "name": "stdout",
     "output_type": "stream",
     "text": [
      "The person is diabetic\n"
     ]
    }
   ],
   "source": [
    "if (prediction[0] == 0):\n",
    "  print('The person is not diabetic')\n",
    "else:\n",
    "  print('The person is diabetic')"
   ]
  }
 ],
 "metadata": {
  "kernelspec": {
   "display_name": "Python 3",
   "language": "python",
   "name": "python3"
  },
  "language_info": {
   "codemirror_mode": {
    "name": "ipython",
    "version": 3
   },
   "file_extension": ".py",
   "mimetype": "text/x-python",
   "name": "python",
   "nbconvert_exporter": "python",
   "pygments_lexer": "ipython3",
   "version": "3.11.2"
  },
  "orig_nbformat": 4
 },
 "nbformat": 4,
 "nbformat_minor": 2
}
